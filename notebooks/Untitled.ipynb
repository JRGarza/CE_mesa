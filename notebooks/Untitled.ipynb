{
 "cells": [
  {
   "cell_type": "code",
   "execution_count": null,
   "metadata": {},
   "outputs": [],
   "source": [
    "import sys\n",
    "sys.path.append('../python_scripts')\n",
    "\n",
    "import matplotlib.pyplot as plt\n",
    "import pylab as p\n",
    "import numpy as np\n",
    "import os\n",
    "from glob import glob\n",
    "from scipy.interpolate import interp1d\n",
    "from scipy.signal import savgol_filter\n",
    "\n",
    "import sys\n",
    "sys.path.insert(0, '/data/disk1/fragkos/repos/CE_mesa/python_scripts')\n",
    "import mesa as ms\n",
    "import binary as bn\n",
    "#from savitzky_golay import *\n",
    "\n",
    "Lsun = 3.828e33\n",
    "secyer = 24.0*3600.0*365.24\n",
    "GGG = 6.674e-8\n",
    "Msun = 1.989e33\n",
    "Rsun = 6.955e10\n",
    "clight = 29979245800\n",
    "pi = 3.1415\n",
    "crad = 7.57e-15\n",
    "\n",
    "\n",
    "\n",
    "%matplotlib inline \n",
    "plt.rcParams['lines.linewidth'] = 2\n",
    "plt.rcParams['figure.figsize'] = 12, 6  # that's default image size for this interactive session\n",
    "plt.rcParams['font.family'] = 'serif'\n",
    "plt.rcParams['font.serif'] = 'Ubuntu'\n",
    "plt.rcParams['font.monospace'] = 'Ubuntu Mono'\n",
    "plt.rcParams['font.size'] = 10\n",
    "plt.rcParams['axes.labelsize'] = 10\n",
    "plt.rcParams['axes.labelweight'] = 'normal'\n",
    "plt.rcParams['axes.titlesize'] = 10\n",
    "plt.rcParams['xtick.labelsize'] = 8\n",
    "plt.rcParams['ytick.labelsize'] = 8\n",
    "plt.rcParams['legend.fontsize'] = 10\n",
    "plt.rcParams['figure.titlesize'] = 12\n",
    "\n",
    "\n",
    "\n",
    "run_path= \"/home/evol/fragkos/CE/CE_paperI_BNS/1.4M_12M_500R/\"\n",
    "run_name = \"step3_macleod_setE2_noTorque_10yr\"\n",
    "fig_label = \"1.4M_12M_450R_\"+run_name+\"_\"\n",
    "\n",
    "\n",
    "data_path = run_path+run_name+\"/LOGS/\"\n",
    "a = ms.mesa(data_path=data_path, parallel=True, abundances=False, log_abundances = True, \n",
    "            Yaxis='log_mass', Xaxis=\"log_inv_star_age\",czones=False, Variable='v_div_vesc', orbit=True)\n",
    "print(len(a.profiles))\n",
    "\n",
    "run_path= \"/home/evol/fragkos/CE/CE_paperI_BNS/1.4M_12M_450R/\"\n",
    "run_name = \"step3_macleod_setE2_noTorque_10yr\"\n",
    "fig_label = \"1.4M_12M_450R_\"+run_name+\"_\"\n",
    "\n",
    "\n",
    "data_path = run_path+run_name+\"/LOGS/\"\n",
    "b = ms.mesa(data_path=data_path, parallel=True, abundances=False, log_abundances = True, \n",
    "            Yaxis='log_mass', Xaxis=\"log_inv_star_age\",czones=False, Variable='v_div_vesc', orbit=True)\n",
    "print(len(b.profiles))"
   ]
  },
  {
   "cell_type": "code",
   "execution_count": null,
   "metadata": {},
   "outputs": [],
   "source": [
    "plt.plot(a.profiles[0][\"mass\"],10.**a.profiles[0][\"logR\"],  color='k', label=\"new-RG\")\n",
    "plt.plot(b.profiles[0][\"mass\"],10.**b.profiles[0][\"logR\"],  color='b', label=\"old-HG\")\n",
    "plt.xlabel(r'Mass Coordinate ($M_{\\odot}$)', size=20)\n",
    "plt.ylabel(r'Radius Coordinate ($R_{\\odot}$)', size=20)\n",
    "plt.yscale('log')\n",
    "\n",
    "\n",
    "plt.show()"
   ]
  },
  {
   "cell_type": "code",
   "execution_count": null,
   "metadata": {},
   "outputs": [],
   "source": [
    "a.profiles[0].dtype.names"
   ]
  },
  {
   "cell_type": "code",
   "execution_count": null,
   "metadata": {},
   "outputs": [],
   "source": [
    "plt.plot(a.profiles[0][\"mass\"],10.**a.profiles[0][\"logRho\"],  color='k', label=\"new-RG\")\n",
    "plt.plot(b.profiles[0][\"mass\"],10.**b.profiles[0][\"logRho\"],  color='b', label=\"old-HG\")\n",
    "plt.xlabel(r'Mass Coordinate ($M_{\\odot}$)', size=20)\n",
    "plt.ylabel(r'Density ($R_{\\odot}$)', size=20)\n",
    "plt.yscale('log')\n",
    "\n",
    "\n",
    "plt.show()\n",
    "\n",
    "plt.plot(a.profiles[0][\"mass\"],a.profiles[0][\"h1\"],  color='k', label=\"new-RG\")\n",
    "plt.plot(b.profiles[0][\"mass\"],b.profiles[0][\"h1\"],  color='b', label=\"old-HG\")\n",
    "plt.xlabel(r'Mass Coordinate ($M_{\\odot}$)', size=20)\n",
    "plt.ylabel(r'Density ($R_{\\odot}$)', size=20)\n",
    "\n",
    "\n",
    "plt.show()"
   ]
  },
  {
   "cell_type": "code",
   "execution_count": null,
   "metadata": {},
   "outputs": [],
   "source": [
    "plt.plot(10.**a.profiles[0][\"logR\"],10.**a.profiles[0][\"logRho\"],  color='k', label=\"new-RG\")\n",
    "plt.plot(10.**b.profiles[0][\"logR\"],10.**b.profiles[0][\"logRho\"],  color='b', label=\"old-HG\")\n",
    "plt.xlabel(r'Radius Coordinate ($M_{\\odot}$)', size=20)\n",
    "plt.ylabel(r'Density ($R_{\\odot}$)', size=20)\n",
    "plt.yscale('log')\n",
    "plt.xscale('log')\n",
    "\n",
    "\n",
    "\n",
    "plt.show()"
   ]
  },
  {
   "cell_type": "code",
   "execution_count": null,
   "metadata": {},
   "outputs": [],
   "source": []
  },
  {
   "cell_type": "code",
   "execution_count": null,
   "metadata": {},
   "outputs": [],
   "source": []
  },
  {
   "cell_type": "code",
   "execution_count": null,
   "metadata": {},
   "outputs": [],
   "source": []
  }
 ],
 "metadata": {
  "language_info": {
   "name": "python",
   "pygments_lexer": "ipython3"
  }
 },
 "nbformat": 4,
 "nbformat_minor": 2
}
