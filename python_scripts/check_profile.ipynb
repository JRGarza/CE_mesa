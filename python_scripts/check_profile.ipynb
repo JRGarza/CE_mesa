{
 "metadata": {
  "name": "",
  "signature": "sha256:4c7d31dba8d1dc677f9ca4009ad6cbee014b395d4ca10a41267e1a1c8bb75c24"
 },
 "nbformat": 3,
 "nbformat_minor": 0,
 "worksheets": [
  {
   "cells": [
    {
     "cell_type": "code",
     "collapsed": false,
     "input": [
      "import mesa as ms\n",
      "import pylab as p\n",
      "import numpy as np\n",
      "p1=ms.mesa_profile('../LOGS1',100,num_type='model')\n",
      "mass = p1.get('mass') # solar mass\n",
      "dm = mass\n",
      "dm[:-1] = mass[:-1]-mass[1:]\n",
      "\n",
      "# r = p1.get('radius') # solar radius\n",
      "# dr = r\n",
      "# dr[:-1] = r[:-1]-r[1:]\n",
      "# csound = p1.get('csound') #cm/s\n",
      "# t_sc = dr/(csound*3.15e7/6.95e10)\n",
      "# mdot_sc =  dm/t_sc\n",
      "print mass\n",
      "print mdot_sc\n",
      "# p.plot(mass,mdot_sc)\n",
      "# p.show()"
     ],
     "language": "python",
     "metadata": {},
     "outputs": [
      {
       "output_type": "stream",
       "stream": "stdout",
       "text": [
        "6 in profiles.index file ...\n",
        "reading ../LOGS1/profile5.data ...\n",
        "Closing profile tool ..."
       ]
      },
      {
       "output_type": "stream",
       "stream": "stdout",
       "text": [
        "\n",
        "[  2.99982261e-12   3.91020549e-12   3.96660482e-12 ...,   4.94399224e-07\n",
        "   4.94399224e-07   1.99999994e-07]\n",
        "[  1.14597865e-02   1.14610227e-02   1.14598535e-02 ...,   3.48365328e+02\n",
        "   2.01360568e+02   4.18912596e+01]\n"
       ]
      }
     ],
     "prompt_number": 3
    },
    {
     "cell_type": "code",
     "collapsed": false,
     "input": [],
     "language": "python",
     "metadata": {},
     "outputs": []
    }
   ],
   "metadata": {}
  }
 ]
}