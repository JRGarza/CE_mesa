{
 "cells": [
  {
   "cell_type": "markdown",
   "metadata": {},
   "source": [
    "## This is script plots outputs from the hydrosolver info dump"
   ]
  },
  {
   "cell_type": "code",
   "execution_count": 1,
   "metadata": {
    "collapsed": false
   },
   "outputs": [],
   "source": [
    "import matplotlib.pyplot as plt\n",
    "import pylab as p\n",
    "import numpy as np\n",
    "\n",
    "\n",
    "%matplotlib inline \n",
    "\n",
    "data_path = \"/Users/jeffandrews/Research/CE/Aug/working/plot_data/solve_logs/\"\n"
   ]
  },
  {
   "cell_type": "code",
   "execution_count": 2,
   "metadata": {
    "collapsed": false
   },
   "outputs": [],
   "source": [
    "import solve_log as sol"
   ]
  },
  {
   "cell_type": "markdown",
   "metadata": {},
   "source": [
    "## Interesting that it seems the problem with the temperature is limited to a few cells"
   ]
  },
  {
   "cell_type": "code",
   "execution_count": 28,
   "metadata": {
    "collapsed": false
   },
   "outputs": [
    {
     "data": {
      "image/png": "[encoded data removed]",
      "text/plain": [
       "<matplotlib.figure.Figure at 0x117129f90>"
      ]
     },
     "metadata": {},
     "output_type": "display_data"
    }
   ],
   "source": [
    "sol.make_iter_plot('corr_lum',dir=data_path, min_zone = 1, max_zone = 500)\n",
    "plt.show()"
   ]
  },
  {
   "cell_type": "markdown",
   "metadata": {
    "collapsed": false
   },
   "source": [
    "### Now, let's try loading up internals?.data in working/plot_data"
   ]
  },
  {
   "cell_type": "code",
   "execution_count": null,
   "metadata": {
    "collapsed": false
   },
   "outputs": [],
   "source": [
    "data_path_internals = \"/Users/jeffandrews/Research/CE/Aug/working/plot_data/\"\n",
    "wd_internals = data_path_internals + 'internals0.data'\n",
    "\n",
    "internals = np.genfromtxt(wd_internals, skip_header=3, names=True)"
   ]
  },
  {
   "cell_type": "code",
   "execution_count": null,
   "metadata": {
    "collapsed": false
   },
   "outputs": [],
   "source": [
    "plt.plot(internals[\"grid\"], internals[\"L\"], color='k', label=\"Luminosity\")\n",
    "#plt.plot(internals[\"r\"], internals[\"log_dq\"], color='k', label='dq')\n",
    "#plt.plot(internals[\"r\"], internals[\"log10P\"], color='k', label='log10P')\n",
    "#plt.plot(internals[\"r\"], internals[\"eta_visc\"], color='k', label='eta_visc')\n",
    "#plt.plot(internals[\"r\"], internals[\"log10T\"], color='k', label='log10T')\n",
    "#plt.plot(internals[\"r\"], internals[\"log10d\"], color='k', label='log10d')\n",
    "\n",
    "plt.xlim(600, 400)\n",
    "\n",
    "plt.show()"
   ]
  },
  {
   "cell_type": "code",
   "execution_count": null,
   "metadata": {
    "collapsed": true
   },
   "outputs": [],
   "source": []
  }
 ],
 "metadata": {
  "kernelspec": {
   "display_name": "Python 2",
   "language": "python",
   "name": "python2"
  },
  "language_info": {
   "codemirror_mode": {
    "name": "ipython",
    "version": 2
   },
   "file_extension": ".py",
   "mimetype": "text/x-python",
   "name": "python",
   "nbconvert_exporter": "python",
   "pygments_lexer": "ipython2",
   "version": "2.7.10"
  }
 },
 "nbformat": 4,
 "nbformat_minor": 0
}
